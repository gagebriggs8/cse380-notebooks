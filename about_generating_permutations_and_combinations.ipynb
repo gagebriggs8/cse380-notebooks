{
 "cells": [
  {
   "cell_type": "markdown",
   "metadata": {},
   "source": [
    "# About Generating Permutations and Combinations\n",
    "## Divide Pair Conquer\n",
    "### Due: Monday, 1 February 2021, 11:59pm\n"
   ]
  },
  {
   "cell_type": "markdown",
   "metadata": {},
   "source": [
    "There are many occasions when you need to *generate* the permutations or\n",
    "combinations of a set, not just count them.\n",
    "\n",
    "There are many algorithms for generating permutations and combinations --- you\n",
    "can find them if you look.\n",
    "\n",
    "For an application, from a biographical sketch about Donald Knuth by Kenneth\n",
    "Rosen, we learn that\n"
   ]
  },
  {
   "cell_type": "markdown",
   "metadata": {},
   "source": [
    "> \"Knuth grew up in Milwaukee, where his father taught bookkeeping at a Lutheran\n",
    "high school and owned a small printing business. He was an excellent student,\n",
    "earning academic achievement awards. He applied his intelligence in\n",
    "unconventional ways, winning a contest when he was in the eighth grade by\n",
    "finding as many words as possible that could be formed from the letters in\n",
    "\n",
    "---\n",
    "\n",
    "> **Ziegler's Giant Bar**.\n",
    "\n",
    "___\n",
    "\n",
    "> This won a television set for his school and a candy bar for everyone in his class.\n"
   ]
  },
  {
   "source": [
    "Knuth found over 4500 words. How many can **you** find?"
   ],
   "cell_type": "code",
   "metadata": {},
   "execution_count": 1,
   "outputs": [
    {
     "output_type": "stream",
     "name": "stdout",
     "text": [
      "Object `find` not found.\n"
     ]
    }
   ]
  },
  {
   "cell_type": "code",
   "execution_count": null,
   "metadata": {},
   "outputs": [],
   "source": [
    "Change made here"
   ]
  }
 ],
 "metadata": {
  "kernelspec": {
   "name": "python3",
   "display_name": "Python 3.9.1 64-bit",
   "metadata": {
    "interpreter": {
     "hash": "c16781caba93b53381bc6414d125c9bff7f677c90db4fafbda279e0df4947c58"
    }
   }
  },
  "language_info": {
   "codemirror_mode": {
    "name": "ipython",
    "version": 3
   },
   "file_extension": ".py",
   "mimetype": "text/x-python",
   "name": "python",
   "nbconvert_exporter": "python",
   "pygments_lexer": "ipython3",
   "version": "3.9.1-final"
  }
 },
 "nbformat": 4,
 "nbformat_minor": 4
}