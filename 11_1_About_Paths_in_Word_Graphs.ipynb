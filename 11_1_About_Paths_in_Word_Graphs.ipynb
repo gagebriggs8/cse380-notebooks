{
  "nbformat": 4,
  "nbformat_minor": 0,
  "metadata": {
    "colab": {
      "name": "11_1_About_Paths_in_Word_Graphs.ipynb",
      "provenance": [],
      "authorship_tag": "ABX9TyNCPa62crKG/CaSoIf4SVIa",
      "include_colab_link": true
    },
    "kernelspec": {
      "name": "python3",
      "display_name": "Python 3.9.1 64-bit",
      "metadata": {
        "interpreter": {
          "hash": "c16781caba93b53381bc6414d125c9bff7f677c90db4fafbda279e0df4947c58"
        }
      }
    }
  },
  "cells": [
    {
      "cell_type": "markdown",
      "metadata": {
        "id": "view-in-github",
        "colab_type": "text"
      },
      "source": [
        "<a href=\"https://colab.research.google.com/github/byui-cse/cse380-notebooks/blob/master/11_1_About_Paths_in_Word_Graphs.ipynb\" target=\"_parent\"><img src=\"https://colab.research.google.com/assets/colab-badge.svg\" alt=\"Open In Colab\"/></a>"
      ]
    },
    {
      "cell_type": "markdown",
      "metadata": {
        "id": "bdAeTh17kn01"
      },
      "source": [
        "# About Paths in Word Graphs\n",
        "## Divide Pair Conquer\n",
        "### Due: Monday, 15 March 2021, 11:59 pm"
      ]
    },
    {
      "cell_type": "markdown",
      "metadata": {
        "id": "XJHGM9eQkwxH"
      },
      "source": [
        "## Definition"
      ]
    },
    {
      "cell_type": "markdown",
      "metadata": {
        "id": "GM3LBOlNkzid"
      },
      "source": [
        "Word graphs are like those in Exercise 381, the nodes are words, the links are between words that differ by only one letter in the same position (e.g., **wind** and **wins** differ in the fourth letter only, so that defines a link. But **dine** and **tone** differ in the first and second letters, so no link there)."
      ]
    },
    {
      "cell_type": "markdown",
      "metadata": {
        "id": "YxO6SnVXoFWY"
      },
      "source": [
        "## TODO Find Short Paths"
      ]
    },
    {
      "cell_type": "markdown",
      "metadata": {
        "id": "pASpYbc-oGns"
      },
      "source": [
        "**Without** looking online at any of the 5 billion web sites devoted to this problem, create a graph representation using the following \"universe\" of words:"
      ]
    },
    {
      "cell_type": "code",
      "metadata": {
        "id": "JPLq4YOJoLab"
      },
      "source": [
        "import json, urllib.request\n",
        "# word list comes from here: https://github.com/dwyl/english-words\n",
        "url = \"https://raw.githubusercontent.com/dwyl/english-words/master/words_dictionary.json\"\n",
        "with urllib.request.urlopen(url) as f: \n",
        "  words = json.loads(f.read())\n",
        "  print('rind' in words)"
      ],
      "execution_count": 3,
      "outputs": [
        {
          "output_type": "stream",
          "name": "stdout",
          "text": [
            "True\n"
          ]
        }
      ]
    },
    {
      "cell_type": "code",
      "execution_count": 4,
      "metadata": {},
      "outputs": [
        {
          "output_type": "stream",
          "name": "stdout",
          "text": [
            "['boor', 'door', 'moor', 'pooa', 'pood', 'poof', 'pooh', 'pook', 'pool', 'poon', 'poop', 'poot', 'porr', 'pour']\n"
          ]
        }
      ],
      "source": [
        "with urllib.request.urlopen(url) as f: \n",
        "  wordList = json.loads(f.read())\n",
        "  word = 'poor'\n",
        "  words = [w for w in wordList if sum(a!=b for a,b in zip(word,w)) == 1 and len(w) == len(word)]\n",
        "  print(words)\n"
      ]
    },
    {
      "cell_type": "markdown",
      "metadata": {
        "id": "THnbd22gocyt"
      },
      "source": [
        "Find by hand the shortest paths for as many of the following endpoints as you can. Or, if you have time, write code to find these paths:"
      ]
    },
    {
      "cell_type": "markdown",
      "metadata": {
        "id": "sir5gH7cpQFB"
      },
      "source": [
        "### From \"dry\" to \"wet\""
      ]
    },
    {
      "cell_type": "markdown",
      "metadata": {
        "id": "tXoZiV9xtnvO"
      },
      "source": [
        "dry\n",
        "day\n",
        "way\n",
        "wad\n",
        "wed\n",
        "wet"
      ]
    },
    {
      "cell_type": "markdown",
      "metadata": {
        "id": "b6V-ITRMpRvE"
      },
      "source": [
        "### From \"read\" to \"ride\"\n",
        "\n",
        "read rend rind rine ride"
      ]
    },
    {
      "cell_type": "markdown",
      "metadata": {
        "id": "uLOTZRAVpVKF"
      },
      "source": [
        "### From \"fish\" to \"fowl\"\n",
        "\n",
        "fish fise file fole foll fowl "
      ]
    },
    {
      "cell_type": "markdown",
      "metadata": {
        "id": "cm0_qn79pWaZ"
      },
      "source": [
        "### From \"hate\" to \"love\"\n",
        "\n",
        "hate have lave love"
      ]
    },
    {
      "cell_type": "markdown",
      "metadata": {
        "id": "bwsoOSr2pXsI"
      },
      "source": [
        "### From \"head\" to \"feet\"\n",
        "\n",
        "head heat feat feet"
      ]
    },
    {
      "cell_type": "markdown",
      "metadata": {
        "id": "tYmmwLDApY-a"
      },
      "source": [
        "### From \"poor\" to \"rich\"\n",
        "\n",
        "poor poot root riot rist rise rice rich"
      ]
    },
    {
      "cell_type": "markdown",
      "metadata": {
        "id": "hvEyvK3ypaR5"
      },
      "source": [
        "### From \"sick\" to \"well\"\n",
        "\n",
        "sick silk sill sell well\n",
        "\n"
      ]
    },
    {
      "cell_type": "markdown",
      "metadata": {
        "id": "2KzWkpn3pb2H"
      },
      "source": [
        "### From \"warm\" to \"cold\"\n",
        "\n",
        "warm ward word cord cold"
      ]
    },
    {
      "cell_type": "markdown",
      "metadata": {
        "id": "nriebmvRpg9m"
      },
      "source": [
        "### From \"work\" to \"play\"\n",
        "\n",
        "work woak woad goad glad blad blay play"
      ]
    },
    {
      "cell_type": "markdown",
      "metadata": {
        "id": "Bn1gMDAvpidg"
      },
      "source": [
        "### From \"bane\" to \"boon\"\n",
        "\n",
        "bane bone bond bood boon"
      ]
    },
    {
      "cell_type": "markdown",
      "metadata": {
        "id": "iZ0UQQBGpjvy"
      },
      "source": [
        "### From \"black\" to \"white\"\n",
        "\n",
        "black blick brick brisk brist wrist whist whiss whits white\n"
      ]
    },
    {
      "cell_type": "markdown",
      "metadata": {
        "id": "PUhtca6YplBL"
      },
      "source": [
        "### From \"bread\" to \"toast\"\n",
        "\n",
        "bread tread treat trest trust toust toast"
      ]
    },
    {
      "cell_type": "markdown",
      "metadata": {
        "id": "drhFyUbnpmwQ"
      },
      "source": [
        "## TODO Go Above and Beyond"
      ]
    },
    {
      "cell_type": "markdown",
      "metadata": {
        "id": "9Y_YdUrapoaE"
      },
      "source": [
        "Think of ways to change the definition of a link in a word graph to make it possible (although perhaps costlier) to move from word to word."
      ]
    }
  ]
}