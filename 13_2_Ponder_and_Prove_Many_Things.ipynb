{
  "nbformat": 4,
  "nbformat_minor": 0,
  "metadata": {
    "colab": {
      "name": "13_2_Ponder_and_Prove_Many_Things.ipynb",
      "provenance": [],
      "authorship_tag": "ABX9TyO8IULuqVjJlvplhZWUq5VK",
      "include_colab_link": true
    },
    "kernelspec": {
      "name": "python3",
      "display_name": "Python 3.9.1 64-bit",
      "metadata": {
        "interpreter": {
          "hash": "c16781caba93b53381bc6414d125c9bff7f677c90db4fafbda279e0df4947c58"
        }
      }
    },
    "language_info": {
      "name": "python",
      "version": "3.9.1"
    }
  },
  "cells": [
    {
      "cell_type": "markdown",
      "metadata": {
        "id": "view-in-github",
        "colab_type": "text"
      },
      "source": [
        "<a href=\"https://colab.research.google.com/github/byui-cse/cse380-notebooks/blob/master/13_2_Ponder_and_Prove_Many_Things.ipynb\" target=\"_parent\"><img src=\"https://colab.research.google.com/assets/colab-badge.svg\" alt=\"Open In Colab\"/></a>"
      ]
    },
    {
      "cell_type": "markdown",
      "metadata": {
        "id": "0GZOWnts9NAD"
      },
      "source": [
        "# Ponder and Prove Many Things\n",
        "## Due: Thursday, 1 April 2021, 11:59 pm"
      ]
    },
    {
      "cell_type": "markdown",
      "metadata": {
        "id": "S5XdXGMv9dy4"
      },
      "source": [
        "### Is It Decidable?"
      ]
    },
    {
      "cell_type": "markdown",
      "metadata": {
        "id": "Gzy9wIboAVvi"
      },
      "source": [
        "#### TODO Study and run the code below."
      ]
    },
    {
      "cell_type": "markdown",
      "metadata": {
        "id": "218Qmbtx9lP6"
      },
      "source": [
        "And answer these questions:\n",
        "1. What is this program computing?\n",
        "2. How does it do it?\n",
        "3. Will it ever terminate?"
      ]
    },
    {
      "cell_type": "code",
      "metadata": {
        "id": "LfltDFaw9trA"
      },
      "source": [
        "from math import log2\n",
        "\n",
        "def you_decide():\n",
        "  flibbers = [17,78,19,23,29,77,95,77,1,11,13,15,15,55]\n",
        "  flobbers = [91,85,51,38,33,29,23,19,17,13,11,14,2,1]\n",
        "  i = 2\n",
        "  time_keeps_ticking = True\n",
        "  while time_keeps_ticking:\n",
        "    time_keeps_ticking = False\n",
        "    for n in range(len(flibbers)):\n",
        "      f = i * flibbers[n]\n",
        "      if not f % flobbers[n]:\n",
        "        i = f // flobbers[n]\n",
        "        p = log2(i)\n",
        "        if p.is_integer():\n",
        "          print(i)\n",
        "        time_keeps_ticking = True\n",
        "        break"
      ],
      "execution_count": 1,
      "outputs": []
    },
    {
      "source": [
        "you_decide()"
      ],
      "cell_type": "markdown",
      "metadata": {
        "id": "fGZ9lZCP9xWC"
      }
    },
    {
      "cell_type": "markdown",
      "metadata": {
        "id": "oqZ3784B-EyX"
      },
      "source": [
        "### Fun With Decidability"
      ]
    },
    {
      "cell_type": "markdown",
      "metadata": {
        "id": "aeiVo2WpkySc"
      },
      "source": [
        "#### TODO Read and Share"
      ]
    },
    {
      "cell_type": "markdown",
      "metadata": {
        "id": "i13mpSpd-O39"
      },
      "source": [
        "Read [Can't Decide? Undecide! by Chaim Goodman-Strauss](https://strauss.hosted.uark.edu/papers/decide.pdf)\n",
        "\n",
        "Share six things that you found interesting in this paper.\n",
        "\n",
        "1. 1.1 I found it interesting that there is a mathematic way to find out if a shape can be tiled. I wouldn't think that possible. \n",
        "\n",
        "2. 1.2 That halting problem is intereting. A function that runs until 1 is output that always ends is interesting to me. In one sense, I'm glad there has never been a case where it goes on forever, but then again, that means people may still be looking. That would be tough. \n",
        "\n",
        "3. 1.3 I found it confusing for a second, because I didn't know the difference between looping and running forever. Now I understand though, because one is if no loop is ever found to exist. \n",
        "\n",
        "4. 2.1 I found the representations of tiles in this section interesting, ablbeit very confusing. I don't fully understand what shapes they represented, if any at all. \n",
        "\n",
        "5. 2.2 There are so many different ways to produce prime numbers, and in order. It's almost as if prime numbers are important in mathematics.  \n",
        "\n",
        "6. 3.1 I think this pattern example looks like a lot of fun to investigate further. \n",
        "\n",
        "Share six things that you already knew or had heard about before. (These can overlap with the first six.)\n",
        "\n",
        "1. 1.1 I remember working with shapes in a class and creating a shape that could be tiled. We would just cut a piece out and tape it to the other side, and it would be tileable. \n",
        "\n",
        "2. 1.2 I believe the function above is somewhat related to the halting problem. I haven't seen it come to an end yet, so I wonder if it will ever end due to code, or due to computer ability. \n",
        "\n",
        "3. 1.3 This faintly reminds me of when I was in ECEN 160, and we had to run machines using binary. \n",
        "\n",
        "4. 2.1 I remember the video we watched earlier in the week about turing machines and how they work.  \n",
        "\n",
        "5. 2.2 The example shown is just another way to produce prime numbers. I know we've worked with them a lot this semester. \n",
        "\n",
        "6. 3.1 This again reminds me a lot about the tiling I have worked with previously. \n",
        "\n",
        "Write one to two sentences for each of the things you share.\n"
      ]
    },
    {
      "cell_type": "markdown",
      "metadata": {
        "id": "gjeWZ0Mo-r6E"
      },
      "source": [
        "### The Map of Mathematics"
      ]
    },
    {
      "cell_type": "markdown",
      "metadata": {
        "id": "xFFVrRTl-wY9"
      },
      "source": [
        "[The entire field of mathematics summarized in a single map!](https://www.youtube.com/watch?v=OmJ-4B-mS-Y) --- direct link, or embedded below.\n",
        "\n",
        "This video shows how pure mathematics and applied mathematics relate to each other and all of the sub-topics they are made from."
      ]
    },
    {
      "cell_type": "code",
      "metadata": {
        "id": "Wd_Ny-gS-zpk"
      },
      "source": [
        "from IPython.display import YouTubeVideo\n",
        "YouTubeVideo('OmJ-4B-mS-Y') # 11 minutes 5 seconds"
      ],
      "execution_count": null,
      "outputs": []
    },
    {
      "cell_type": "markdown",
      "metadata": {
        "id": "8PD-pimc-1dk"
      },
      "source": [
        "#### TODO Watch and Share"
      ]
    },
    {
      "cell_type": "markdown",
      "metadata": {
        "id": "9WIEkJ0p-9JD"
      },
      "source": [
        "Share six things that you found interesting in this video.\n",
        "\n",
        "1. I didn't really know that animals could count. That is really cool.\n",
        "\n",
        "2. Pure math is basically what we have been doing this whole semester. \n",
        "\n",
        "3. Fractal geometry sounds interesting. It also reminds me of a video that I saw that discussed snowflakes as fractal geometry. \n",
        "\n",
        "4. I love chaos theory, mostly just for the name. \n",
        "\n",
        "5. I find it interesting how engineering uses math for eletrical systems. \n",
        "\n",
        "6. Game theory immediately caught my attention. I like how there's a mathematical aspect to game design. \n",
        "\n",
        "Share six things that you already knew or had heard about before. (These can overlap with the first six.)\n",
        "\n",
        "1. I have always thought that math, to me, is only important when it is applicable mathematics. \n",
        "\n",
        "2. I have worked a lot with number systems, like in my linear algebra class. \n",
        "\n",
        "3. The video talked about bigger infinities than others. I really liked that discussion in the semester. \n",
        "\n",
        "4. I remember seeing a video that talked about snowflakes as fractal geometry. \n",
        "\n",
        "5. There is a video series known as Game theory that discusses many sciences involved in video games. \n",
        "\n",
        "6. There is not a complete set of rules for mathematics. I remember a student in my 6th grade class impressing my teacher with a pattern they found. \n",
        "\n",
        "Write one to two sentences for each of the things you share.\n"
      ]
    },
    {
      "cell_type": "markdown",
      "metadata": {
        "id": "nfxMo9bl_TZA"
      },
      "source": [
        "### The Map of Computer Science"
      ]
    },
    {
      "cell_type": "markdown",
      "metadata": {
        "id": "bM9Dst0d_tIW"
      },
      "source": [
        "[The field of computer science similarly summarized.](https://www.youtube.com/watch?v=SzJ46YA_RaA) --- direct link, or embedded below."
      ]
    },
    {
      "cell_type": "code",
      "metadata": {
        "id": "LnBJvrbi_xIp"
      },
      "source": [
        "from IPython.display import YouTubeVideo\n",
        "YouTubeVideo('SzJ46YA_RaA') # 10 minutes 57 seconds"
      ],
      "execution_count": null,
      "outputs": []
    },
    {
      "cell_type": "markdown",
      "metadata": {
        "id": "5194ShLd_zjU"
      },
      "source": [
        "#### TODO Watch and Share"
      ]
    },
    {
      "cell_type": "markdown",
      "metadata": {
        "id": "zTI_XHCU_1HW"
      },
      "source": [
        "Share six things that you found interesting in this video.\n",
        "\n",
        "1. I found the definition of a halting problem interesting and clarifying. \n",
        "\n",
        "2. Cryptogrophy is interesting to me. If I want to be a hacker, that would be the field to study. \n",
        "\n",
        "3. I like that there are different languages for different applications of computing. \n",
        "\n",
        "4. Surprisingly, my operating systems class did not talk about user interface like this video did. \n",
        "\n",
        "5. The part that discussed showing the user how the program is running is something that I keep track of when I'm trying to play computer games. \n",
        "\n",
        "6. I am super interested in AI, and want to find out how all of that works. \n",
        "\n",
        "Share six things that you already knew or had heard about before. (These can overlap with the first six.)\n",
        "\n",
        "1. Ecen 160 taught me that 0s and 1s is the basis of computers. \n",
        "\n",
        "2. I've heard about turing machines before. The tape that was talked about is also familiar to me. \n",
        "\n",
        "3. Problems that can never be completely solved reminds me of 6th grade math. I learned about how there is no end to pi, and a computer could run forever, and never find an end. \n",
        "\n",
        "4. My operating systems class taught me a lot about what was discussed in computer engineering. \n",
        "\n",
        "5. The part that tells how the computer is running a program is very important to me, usually when it comes to video games. \n",
        "\n",
        "6. I'm working on a computer vision code right now for my other python class. \n",
        "\n",
        "Write one to two sentences for each of the things you share."
      ]
    },
    {
      "cell_type": "markdown",
      "metadata": {
        "id": "fPu3fWgR_3hI"
      },
      "source": [
        "### SKIP Report"
      ]
    },
    {
      "cell_type": "markdown",
      "metadata": {
        "id": "JoO9lagO_5lt"
      },
      "source": [
        "The sentences you have already (supposedly) written will suffice."
      ]
    },
    {
      "cell_type": "markdown",
      "metadata": {
        "id": "shpEERFS_87F"
      },
      "source": [
        "### SKIP Self-Assessment"
      ]
    },
    {
      "cell_type": "markdown",
      "metadata": {
        "id": "yWvKYeqc__bX"
      },
      "source": [
        "Instead, you will have ilearn peer reviews to complete."
      ]
    }
  ]
}