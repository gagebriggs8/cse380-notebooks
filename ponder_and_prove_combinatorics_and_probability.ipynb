{
  "nbformat": 4,
  "nbformat_minor": 0,
  "metadata": {
    "kernelspec": {
      "name": "python3",
      "display_name": "Python 3.9.1 64-bit",
      "metadata": {
        "interpreter": {
          "hash": "c16781caba93b53381bc6414d125c9bff7f677c90db4fafbda279e0df4947c58"
        }
      }
    },
    "language_info": {
      "codemirror_mode": {
        "name": "ipython",
        "version": 3
      },
      "file_extension": ".py",
      "mimetype": "text/x-python",
      "name": "python",
      "nbconvert_exporter": "python",
      "pygments_lexer": "ipython3",
      "version": "3.9.1-final"
    },
    "colab": {
      "name": "ponder_and_prove_combinatorics_and_probability.ipynb",
      "provenance": []
    }
  },
  "cells": [
    {
      "cell_type": "markdown",
      "metadata": {
        "id": "npu-mygtjJ1M"
      },
      "source": [
        "# Ponder and Prove Combinatorics and Probability\n",
        "#### Due: Saturday, 6 February 2021, 11:59 pm."
      ]
    },
    {
      "cell_type": "markdown",
      "metadata": {
        "id": "7STeUYU0jJ1N"
      },
      "source": [
        "## Conjecture\n",
        "\n",
        "A number-theoretic conjecture of combinatorial significance is the following:\n",
        "\n",
        "$degree2({2n \\choose n}) =$ the \"bits-on count\" (or population count, or Hamming weight) of $n$.\n",
        "\n",
        "$degree2(m)$ is defined as the number (degree, exponent) of 2's in the prime factorization of $m$.\n",
        "\n",
        "In other words, for any $m$, a positive integer, $m = 2^e \\cdot o$ where $o$ is an odd positive integer (could be 1) and $e$ is a natural number, including zero --- which would be the case when $m$ is odd. It's the $e$ that is the $degree2$ of $m$.\n",
        "\n",
        "Another way to state this conjecture is that the number of 1's in the binary expansion of ${2n \\choose n}$ for positive integer $n$ is equal to the number of 2's in the prime factorization of $n$.\n",
        "\n",
        "Your task is to write Python code to test this conjecture for as many positive integers as you can. See the self-assessment for more details.\n",
        "\n",
        "Note: a `bitsoncount` function can be a one-liner in Python: `return bin(x).count('1')`\n",
        "\n"
      ]
    },
    {
      "cell_type": "code",
      "metadata": {
        "id": "RqUsv3o4jJ1O",
        "outputId": "a15e2562-bb30-426b-cdbb-c309f2963c57"
      },
      "source": [
        "def main():\n",
        "    i = 0\n",
        "    for x in range(50):\n",
        "        degree2(2*n,n)\n",
        "        degree2(m)\n",
        "        i += 1\n",
        "    return bin(i).count('1')\n",
        "main()"
      ],
      "execution_count": null,
      "outputs": [
        {
          "output_type": "error",
          "ename": "NameError",
          "evalue": "name 'degree2' is not defined",
          "traceback": [
            "\u001b[1;31m---------------------------------------------------------------------------\u001b[0m",
            "\u001b[1;31mNameError\u001b[0m                                 Traceback (most recent call last)",
            "\u001b[1;32m<ipython-input-16-1a933c60cfaa>\u001b[0m in \u001b[0;36m<module>\u001b[1;34m\u001b[0m\n\u001b[0;32m      4\u001b[0m         \u001b[0mi\u001b[0m \u001b[1;33m+=\u001b[0m \u001b[1;36m1\u001b[0m\u001b[1;33m\u001b[0m\u001b[1;33m\u001b[0m\u001b[0m\n\u001b[0;32m      5\u001b[0m     \u001b[1;32mreturn\u001b[0m \u001b[0mbin\u001b[0m\u001b[1;33m(\u001b[0m\u001b[0mi\u001b[0m\u001b[1;33m)\u001b[0m\u001b[1;33m.\u001b[0m\u001b[0mcount\u001b[0m\u001b[1;33m(\u001b[0m\u001b[1;34m'1'\u001b[0m\u001b[1;33m)\u001b[0m\u001b[1;33m\u001b[0m\u001b[1;33m\u001b[0m\u001b[0m\n\u001b[1;32m----> 6\u001b[1;33m \u001b[0mmain\u001b[0m\u001b[1;33m(\u001b[0m\u001b[1;33m)\u001b[0m\u001b[1;33m\u001b[0m\u001b[1;33m\u001b[0m\u001b[0m\n\u001b[0m",
            "\u001b[1;32m<ipython-input-16-1a933c60cfaa>\u001b[0m in \u001b[0;36mmain\u001b[1;34m()\u001b[0m\n\u001b[0;32m      1\u001b[0m \u001b[1;32mdef\u001b[0m \u001b[0mmain\u001b[0m\u001b[1;33m(\u001b[0m\u001b[1;33m)\u001b[0m\u001b[1;33m:\u001b[0m\u001b[1;33m\u001b[0m\u001b[1;33m\u001b[0m\u001b[0m\n\u001b[0;32m      2\u001b[0m     \u001b[0mi\u001b[0m \u001b[1;33m=\u001b[0m \u001b[1;36m0\u001b[0m\u001b[1;33m\u001b[0m\u001b[1;33m\u001b[0m\u001b[0m\n\u001b[1;32m----> 3\u001b[1;33m     \u001b[1;32mfor\u001b[0m \u001b[0mx\u001b[0m \u001b[1;32min\u001b[0m \u001b[0mrange\u001b[0m\u001b[1;33m(\u001b[0m\u001b[0mdegree2\u001b[0m\u001b[1;33m(\u001b[0m\u001b[1;36m2\u001b[0m\u001b[1;33m*\u001b[0m\u001b[0mn\u001b[0m\u001b[1;33m,\u001b[0m \u001b[0mn\u001b[0m\u001b[1;33m)\u001b[0m\u001b[1;33m)\u001b[0m\u001b[1;33m:\u001b[0m\u001b[1;33m\u001b[0m\u001b[1;33m\u001b[0m\u001b[0m\n\u001b[0m\u001b[0;32m      4\u001b[0m         \u001b[0mi\u001b[0m \u001b[1;33m+=\u001b[0m \u001b[1;36m1\u001b[0m\u001b[1;33m\u001b[0m\u001b[1;33m\u001b[0m\u001b[0m\n\u001b[0;32m      5\u001b[0m     \u001b[1;32mreturn\u001b[0m \u001b[0mbin\u001b[0m\u001b[1;33m(\u001b[0m\u001b[0mi\u001b[0m\u001b[1;33m)\u001b[0m\u001b[1;33m.\u001b[0m\u001b[0mcount\u001b[0m\u001b[1;33m(\u001b[0m\u001b[1;34m'1'\u001b[0m\u001b[1;33m)\u001b[0m\u001b[1;33m\u001b[0m\u001b[1;33m\u001b[0m\u001b[0m\n",
            "\u001b[1;31mNameError\u001b[0m: name 'degree2' is not defined"
          ]
        }
      ]
    },
    {
      "cell_type": "code",
      "metadata": {
        "id": "QS8csuxijJ1O"
      },
      "source": [
        "This may be wrong, because it is going over my head no matter what research I do. "
      ],
      "execution_count": null,
      "outputs": []
    },
    {
      "cell_type": "markdown",
      "metadata": {
        "id": "bbhqw1sFjZ-X"
      },
      "source": [
        "## TA Comments"
      ]
    },
    {
      "cell_type": "markdown",
      "metadata": {
        "id": "Dj_gn3HSjbsz"
      },
      "source": [
        "Please ask for help if you get stuck! I cannot give you any credit for this! This was the biggest task of the assignment, yet you show very little evidence that you spent any significant amount of time or thought on it."
      ]
    },
    {
      "cell_type": "markdown",
      "metadata": {
        "id": "vA1hljjljJ1O"
      },
      "source": [
        "## Basic Probability Theory Question\n",
        "A dark room contains two barrels. The first barrel is filled with green marbles, the second is filled with a half-and-half mixture of green and blue marbles. So there's a 100% chance of choosing a green marble from the first barrel, and a 50% chance of choosing either color in the second barrel. You reach into one of the barrels (it's dark so you don't know which one) and select a marble at random. It's green. You select another. It's green too. You select a third, a fourth, a fifth, etc. Green each time. What is the *minimum* number of marbles you need to select to *exceed* a probability of 99% that you are picking them out of the all-green barrel? (Note that there are enough marbles so that the answer does not depend on how many marbles are in the second barrel.)\n"
      ]
    },
    {
      "cell_type": "code",
      "metadata": {
        "id": "9CApvJ-EjJ1P"
      },
      "source": [
        "I think in order for you to get over a 99% chance of only picking from the green barrel, you need to pick over 99 green marbles in a row. Even with the odds of a 50% chance of picking a blue marble from the other barrel, picking 99 green ones in a row would make it more than reasonable to assume you are picking from the all green barrel. "
      ],
      "execution_count": null,
      "outputs": []
    },
    {
      "cell_type": "markdown",
      "metadata": {
        "id": "PiFWfWasjneW"
      },
      "source": [
        "## TA Comments"
      ]
    },
    {
      "cell_type": "markdown",
      "metadata": {
        "id": "SBrTOw59cCgE"
      },
      "source": [
        "That is incorrect... You were asked to find the minimum number of marbles you need to pick to have a 99% certainty that you are pulling marbles from the all-green barrel."
      ]
    },
    {
      "cell_type": "markdown",
      "metadata": {
        "id": "gMP8iynccc8R"
      },
      "source": [
        "To do this, you can write some simple code:"
      ]
    },
    {
      "cell_type": "code",
      "metadata": {
        "colab": {
          "base_uri": "https://localhost:8080/"
        },
        "id": "8T1LVin1cgWg",
        "outputId": "f17d991c-a57c-404e-974a-c098e49ddc20"
      },
      "source": [
        "import math\r\n",
        "goal = 0.99\r\n",
        "prob = 0.5\r\n",
        "print(math.ceil(math.log(1-goal,prob)))"
      ],
      "execution_count": null,
      "outputs": [
        {
          "output_type": "stream",
          "text": [
            "7\n"
          ],
          "name": "stdout"
        }
      ]
    },
    {
      "cell_type": "markdown",
      "metadata": {
        "id": "mn7YjZyud-3x"
      },
      "source": [
        "This works because the probability that the $n$th marble you picked was from the all-green barrel is: $1 - (\\frac{1}{2})^{n}$. If we choose the base of our log to be $\\frac{1}{2}$ and we round up (using ceil), we can find the minimum number of marbles ($n$) it takes for $(\\frac{1}{2})^n \\le 0.01$."
      ]
    },
    {
      "cell_type": "markdown",
      "metadata": {
        "id": "u24wy52RjJ1P"
      },
      "source": [
        "## A Related But Deeper Basic Probability Theory Question\n",
        "Take a deep breath. Suppose Shakespeare's account is accurate and Julius Caesar gasped \"You too, Brutus\" before breathing his last. What is the probability that you just inhaled a molecule that Julius Caesar exhaled in his dying breath?\n",
        "\n",
        "Assume that after more than two thousand years the exhaled molecules are uniformly spread about the world and the vast majority are still free in the atmosphere. Assume further that there are $10^{44}$ molecules of air in the world, and that your inhaled quantity and Caesar's exhaled quantity were each about $2.2 \\times 10^{22}$ molecules.\n",
        "### Hint\n",
        "If a number $x$ is small, then $(1 - x)$ is approximately equal to $e^{-x}$."
      ]
    },
    {
      "cell_type": "code",
      "metadata": {
        "id": "jZHDD73OjJ1P",
        "outputId": "dc58adb6-e3e6-498d-c4fb-7e6086fdabba",
        "colab": {
          "base_uri": "https://localhost:8080/"
        }
      },
      "source": [
        "A = 10^44\n",
        "B = 2.2 * (10^22)\n",
        "N = 2.2 * (10^22)\n",
        "print(1 - ((1-B/A)**N))"
      ],
      "execution_count": 1,
      "outputs": [
        {
          "output_type": "stream",
          "text": [
            "(0.9999999999999442+1.7175767668991216e-13j)\n"
          ],
          "name": "stdout"
        }
      ]
    },
    {
      "cell_type": "code",
      "metadata": {
        "id": "H_onHMOcjJ1P"
      },
      "source": [
        "I was able to find some sources of study to help me figure this out. It was very interesting to learn every step that lead to the answer. Unfortunatelly, this particular formula and set of numbers does not like to work for me, but the answer is well over 99% that each breath contains at least one molecule of Ceasar's last breath."
      ],
      "execution_count": null,
      "outputs": []
    },
    {
      "cell_type": "markdown",
      "metadata": {
        "id": "rDxklZU2jwcY"
      },
      "source": [
        "## TA Comments"
      ]
    },
    {
      "cell_type": "markdown",
      "metadata": {
        "id": "la-AigmFjyC2"
      },
      "source": [
        "Not quite! That is not the probability you were asked to find.<br/><br/>\r\n",
        "You were asked to find the probability that you just inhaled a molecule that Julius Caesar exhaled in his dying breath, which is quite different.<br/><br/>\r\n",
        "The probability that you will not breathe a molecule that Caesar exhaled in your next breath is $1 - 2.2 \\times 10^{-22}$, or approximately $e^{-2.2 \\times 10^{-22}}$.<br/><br/>\r\n",
        "Next, you must find the probability that an air molecule that you will inhale was not exhaled by Caesar: <br/>\r\n",
        "$(e^{-2.2 \\times 10^{-22}})^{2.2 \\times 10^{22}}$, or $e^{-4.84} \\approx 0.0079$<br/><br/>\r\n",
        "Now you have the information needed to find the probability that an air molecule you just inhaled was exhaled by Caesar:<br/>\r\n",
        "$$1 - (e^{-2.2 \\times 10^{-22}})^{2.2 \\times 10^{22}} = 1 - e^{-4.84} \\approx 0.9920929459484066$$\r\n",
        "### **Really??? 99.209%?!?!**<br/>\r\n",
        "Yes, really. The probability that you just inhaled an air particle that was exhaled in Caesar's dying breath is 99.209%.<br/><br/>\r\n",
        "Pretty incredible, right?"
      ]
    },
    {
      "cell_type": "markdown",
      "metadata": {
        "id": "lpD2ROSCjJ1P"
      },
      "source": [
        "## What is True?\n",
        "Assess yourself on how you did using the checkboxes below. Check a box by putting an 'X' in it only if it is warranted.\n"
      ]
    },
    {
      "cell_type": "markdown",
      "metadata": {
        "id": "LbozPGmUjJ1P"
      },
      "source": [
        "### What is true of my experience in general?\n",
        "(5 points each, 15 points total)\n",
        "- [ ] I had fun.\n",
        "- [ ] I learned something new.\n",
        "- [ ] I achieved something meaningful, or something I can build upon at a later time."
      ]
    },
    {
      "cell_type": "markdown",
      "metadata": {
        "id": "DqBjrjq6k6it"
      },
      "source": [
        "#### TA Comments"
      ]
    },
    {
      "cell_type": "markdown",
      "metadata": {
        "id": "aWEUXlHZk8tn"
      },
      "source": [
        "You must include a response for each section of \"What is true\" to receive credit!"
      ]
    },
    {
      "cell_type": "markdown",
      "metadata": {
        "id": "YHubAWdUjJ1Q"
      },
      "source": [
        "### What is true of my report on what I learned?\n",
        "(5 points each, 25 points total)\n",
        "- [ ] I wrote a sufficient number of well-written sentences.\n",
        "- [ ] My report is free of \"mechanical infelicities\" (misspelled words, grammatical errors, punctuation errors, etc.).\n",
        "- [X] I reported on any connections I found between this investigation and something I already know.\n",
        "- [ ] I reported who were and what contribution each of my collaborators made.\n",
        "- [ ] I reported on how many numbers I was able to verify with a time/computation budget of 24 hours (in a row).\n"
      ]
    },
    {
      "cell_type": "markdown",
      "metadata": {
        "id": "BGIwDmnElVaX"
      },
      "source": [
        "#### TA Comments"
      ]
    },
    {
      "cell_type": "markdown",
      "metadata": {
        "id": "MoGtHEVdlZ-N"
      },
      "source": [
        "Please complete the tasks associated with each checkbox before checking them off."
      ]
    },
    {
      "cell_type": "markdown",
      "metadata": {
        "id": "2CR4-zEJjJ1Q"
      },
      "source": [
        "### What is true about my answers?\n",
        "(15 points each, 60 points total)\n",
        "- [ ] I figured out how to run a Python program continuously for at least 24 hours.\n",
        "- [ ] I refrained from printing out anything except the highest number I verified, knowing that printing just slows a program down.\n",
        "- [ ] I got the right answer for the first probability theory question.\n",
        "- [ ] I got the right answer for the second probability theory question.\n"
      ]
    },
    {
      "cell_type": "markdown",
      "metadata": {
        "id": "6JYY0AT0lqZx"
      },
      "source": [
        "#### TA Comments"
      ]
    },
    {
      "cell_type": "markdown",
      "metadata": {
        "id": "YsjbO8-UlqZ1"
      },
      "source": [
        "Please complete the tasks associated with each checkbox before checking them off."
      ]
    }
  ]
}