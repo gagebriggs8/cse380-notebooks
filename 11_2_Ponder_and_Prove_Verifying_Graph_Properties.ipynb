{
  "nbformat": 4,
  "nbformat_minor": 0,
  "metadata": {
    "colab": {
      "name": "11_2_Ponder_and_Prove_Verifying_Graph_Properties.ipynb",
      "provenance": [],
      "authorship_tag": "ABX9TyOQZGRpkJnFKMDXgs0R0WYN",
      "include_colab_link": true
    },
    "kernelspec": {
      "name": "python3",
      "display_name": "Python 3.9.1 64-bit",
      "metadata": {
        "interpreter": {
          "hash": "c16781caba93b53381bc6414d125c9bff7f677c90db4fafbda279e0df4947c58"
        }
      }
    }
  },
  "cells": [
    {
      "cell_type": "markdown",
      "metadata": {
        "id": "view-in-github",
        "colab_type": "text"
      },
      "source": [
        "<a href=\"https://colab.research.google.com/github/byui-cse/cse380-notebooks/blob/master/11_2_Ponder_and_Prove_Verifying_Graph_Properties.ipynb\" target=\"_parent\"><img src=\"https://colab.research.google.com/assets/colab-badge.svg\" alt=\"Open In Colab\"/></a>"
      ]
    },
    {
      "cell_type": "markdown",
      "metadata": {
        "id": "VeWHqnJIVg5T"
      },
      "source": [
        "# Ponder and Prove Verifying Graph Properties\n",
        "## Due: Saturday, 20 March 2021, 11:59 pm"
      ]
    },
    {
      "cell_type": "markdown",
      "metadata": {
        "id": "_E77JvrzViCZ"
      },
      "source": [
        "## Introduction"
      ]
    },
    {
      "cell_type": "markdown",
      "metadata": {
        "id": "CSWn0ZQRVhte"
      },
      "source": [
        "The goal of this assignment is to investigate verifying certain properties of graphs. This is an opportunity to apply your knowledge of complete graphs, graph representations, and subgraphs.\n",
        "\n",
        "Another name for a complete graph is a word that in high school is often mispronounced as **click**. Making it rhyme with the second syllable of the words **antique** or **technique** is the correct way to pronounce **clique**.\n",
        "\n",
        "Think about how to **verify** this graph property, **and its opposite**.\n",
        "\n",
        "To give an operational definition, a clique is a subgraph of a given graph in which every two nodes are connected by a link. An **anti**-clique is a subgraph in which every two nodes are **not** connected by a link. (Note that this is the same as saying that **no** two nodes in this subgraph are connected. Or in other words, they form an **independent set** of nodes --- nodes that are all independent of each other.) Searching through a specified graph, a verifier would check the alleged \"clique-ness\" or \"anti-clique-ness\" of a given list of nodes.\n",
        "\n",
        "Use the code below as a starting point. Decide how to represent a graph. Use the ```link_exists``` predicate as is, or change it to suit. If you decide as is is good enough, you will still need to implement the ```get_adjacency_list``` function. Test several graphs and various-sized candidate node lists (see below) using a suitably implemented ```check_clique_or_anti_clique``` function."
      ]
    },
    {
      "cell_type": "code",
      "metadata": {
        "id": "oS9bcmG1WbAZ"
      },
      "source": [
        "def link_exists(graph, node1, node2):\n",
        "  \"\"\"Given a graph, is there a link between\n",
        "     node1 and node2?\n",
        "  \"\"\"\n",
        "  return (node1 in get_adjacency_list(graph, node2)) or (node2 in get_adjacency_list(graph, node1))\n",
        "\n",
        "def check_clique_or_anti_clique(graph, nodes, anti):\n",
        "  \"\"\"Checks if the graph contains a subgraph consisting of\n",
        "     the given nodes that is a clique (if anti is False)\n",
        "     or an anti-clique (if anti is True). Returns True or\n",
        "     False appropriately.\n",
        "  \"\"\"\n",
        "  # YOUR CODE GOES HERE\n",
        "  raise NotImplementedError # replace this line"
      ],
      "execution_count": 15,
      "outputs": []
    },
    {
      "cell_type": "markdown",
      "metadata": {
        "id": "Py3uqa03Yhmb"
      },
      "source": [
        "## Caution"
      ]
    },
    {
      "cell_type": "markdown",
      "metadata": {
        "id": "cypfjKdLYkLc"
      },
      "source": [
        "Be aware that a possible misconception is that finding the maximal clique in an undirected graph using something like the Bron-Kerbosch algorithm is a clever strategy for this assignment. Not so! Please do not reach this conclusion, which stems from a fundamental misunderstanding of what this assignment is all about."
      ]
    },
    {
      "cell_type": "markdown",
      "metadata": {
        "id": "weZ6yZ-yYp4g"
      },
      "source": [
        "## TODO Test Graphs with Candidate Node Lists"
      ]
    },
    {
      "cell_type": "markdown",
      "metadata": {
        "id": "cTYmS1-pYsm5"
      },
      "source": [
        "There are six test graphs containing from 27 up to just over one million (1,000,000) links. Each line of the input file represents one link, consisting of two nonnegative integers that represent the nodes of the link. All graphs are connected, and the numbers are contiguous from 0 to $n$, where $n$ is some number less than or equal to 60,000. Contiguous means, for example, the nodes 1, 2, 3, 4, 5 and 10, (or any list with gaps) will not occur. However, the nodes may not appear in sorted order in the file, so don't assume they will.\n",
        "\n",
        "Execute the following code block to get the test graph files:"
      ]
    },
    {
      "cell_type": "code",
      "metadata": {
        "id": "LWLQRUqFay3W"
      },
      "source": [
        "!curl -O https://rickneff.github.io/testgraphfiles.zip"
      ],
      "execution_count": 6,
      "outputs": [
        {
          "output_type": "stream",
          "name": "stderr",
          "text": [
            "  % Total    % Received % Xferd  Average Speed   Time    Time     Time  Current\n                                 Dload  Upload   Total   Spent    Left  Speed\n\n  0     0    0     0    0     0      0      0 --:--:-- --:--:-- --:--:--     0\n  3 7010k    3  259k    0     0   259k      0  0:00:26 --:--:--  0:00:26  291k\n  7 7010k    7  499k    0     0   499k      0  0:00:14  0:00:01  0:00:13  263k\n 12 7010k   12  899k    0     0   449k      0  0:00:15  0:00:02  0:00:13  309k\n 16 7010k   16 1171k    0     0   390k      0  0:00:17  0:00:03  0:00:14  300k\n 22 7010k   22 1571k    0     0   392k      0  0:00:17  0:00:04  0:00:13  321k\n 28 7010k   28 1971k    0     0   394k      0  0:00:17  0:00:05  0:00:12  342k\n 32 7010k   32 2259k    0     0   376k      0  0:00:18  0:00:06  0:00:12  352k\n 37 7010k   37 2627k    0     0   375k      0  0:00:18  0:00:07  0:00:11  346k\n 41 7010k   41 2899k    0     0   362k      0  0:00:19  0:00:08  0:00:11  345k\n 47 7010k   47 3299k    0     0   366k      0  0:00:19  0:00:09  0:00:10  345k\n 52 7010k   52 3667k    0     0   333k      0  0:00:21  0:00:11  0:00:10  327k\n 57 7010k   57 4019k    0     0   365k      0  0:00:19  0:00:11  0:00:08  352k\n 60 7010k   60 4259k    0     0   354k      0  0:00:19  0:00:12  0:00:07  326k\n 64 7010k   64 4499k    0     0   346k      0  0:00:20  0:00:13  0:00:07  320k\n 68 7010k   68 4771k    0     0   340k      0  0:00:20  0:00:14  0:00:06  294k\n 72 7010k   72 5075k    0     0   338k      0  0:00:20  0:00:15  0:00:05  286k\n 76 7010k   76 5363k    0     0   315k      0  0:00:22  0:00:17  0:00:05  261k\n 79 7010k   79 5555k    0     0   326k      0  0:00:21  0:00:17  0:00:04  259k\n 85 7010k   85 5971k    0     0   331k      0  0:00:21  0:00:18  0:00:03  294k\n 91 7010k   91 6387k    0     0   336k      0  0:00:20  0:00:19  0:00:01  323k\n 95 7010k   95 6675k    0     0   333k      0  0:00:21  0:00:20  0:00:01  326k\n100 7010k  100 7010k    0     0   333k      0  0:00:21  0:00:21 --:--:--  352k\n"
          ]
        }
      ]
    },
    {
      "cell_type": "markdown",
      "metadata": {
        "id": "hmjCHijZe73B"
      },
      "source": [
        "Your task is to figure out how this code should work, and supply what it lacks to make it work."
      ]
    },
    {
      "cell_type": "code",
      "metadata": {
        "id": "RxBG-osIZ_Rb"
      },
      "source": [
        "from itertools import product\n",
        "from io import BytesIO\n",
        "from zipfile import ZipFile\n",
        "\n",
        "from collections import defaultdict\n",
        "\n",
        "# This is the slow way (takes almost a minute to verify 24 tests)\n",
        "# by having a graph represented by a list of its links.\n",
        "# See if you can do better!\n",
        "def read_graph(zip_file, N):\n",
        "  contents = BytesIO(zip_file.read('testgraphfiles/graph' + str(N) + '.in'))\n",
        "  graph = defaultdict(list)\n",
        "  for line in contents:\n",
        "    node1, node2 = map(int, line.split())\n",
        "    graph[node1].append(node2)\n",
        "    graph[node2].append(node1)\n",
        "  return graph\n",
        "\n",
        "# See above for one way to implement this, but certainly\n",
        "# not the only way, nor even the best way, perhaps.\n",
        "def link_exists(graph, node1, node2):\n",
        "  \"\"\"Does a link exist between node1 and node2 in graph?\n",
        "  \"\"\"\n",
        "  # YOUR CODE GOES HERE\n",
        "  return node2 in graph[node1]\n",
        "\n",
        "# Make use of link_exists, of course, but also the product\n",
        "# function imported from itertools.\n",
        "def check_clique_or_anti_clique(graph, nodes, anti):\n",
        "  \"\"\"Checks if the graph contains a subgraph consisting of\n",
        "     the given nodes that is a clique (if anti is False)\n",
        "     or an anti-clique (if anti is True). Returns True or\n",
        "     False appropriately.\n",
        "  \"\"\"\n",
        "  # YOUR CODE GOES HERE\n",
        "  return all(map(lambda n: all(map(lambda n2: n == n2 or \n",
        "    (anti ^ link_exists(graph, n, n2)), nodes)), nodes))\n",
        "\n",
        "graph_test_dict = {\n",
        "    1: [\n",
        "        [2, 3, 4, 10, 11], True, False,\n",
        "        [2, 4, 5, 10, 11], False, False,\n",
        "        [1, 3, 5, 8], False, True,\n",
        "        [4, 5, 8, 11], False, False\n",
        "    ],\n",
        "    2: [\n",
        "        [251, 417, 517], True, False,\n",
        "        [414, 587, 588], True, False,\n",
        "        [8, 10, 14, 17, 20, 49, 51, 66, 74, 80, 84, 109, 124, 127, 129, 132, 139, 141, 143, 150, 154, 161, 168, 177, 192, 196, 200, 203, 207, 215, 218, 239, 259, 261, 272, 278, 285, 292, 298, 302, 309, 312, 315, 320, 338, 343, 356, 368, 372, 380, 391, 395, 397, 402, 407, 415, 418, 427, 429, 434, 441, 448, 458, 461, 465, 470, 475, 480, 482, 494, 498, 512, 516, 549, 560, 570, 582], False, True,\n",
        "        [17, 290, 129, 212, 354, 497, 192, 381, 389, 112, 386, 341], False, False\n",
        "    ],\n",
        "    3: [\n",
        "\t    [212, 320, 357, 463, 690], True, False,\n",
        "\t    [266, 606, 990, 243, 11], True, False,\n",
        "\t    [534, 787, 579, 430, 849, 399, 561, 798, 72, 623, 422, 197, 8, 336, 1001, 401, 173, 862, 716, 117, 17, 175, 123, 317, 521, 246], False, True,\n",
        "\t    [12, 235, 198, 199, 264, 345, 444, 501, 672, 734, 908], False, False\n",
        "    ],\n",
        "    4: [\n",
        "\t    [664, 1026, 1171], True, False,\n",
        "\t    [838, 1184, 1055, 1480], True, False,\n",
        "\t    [2, 4, 7, 9, 12, 15, 17, 20, 23, 29, 33, 35, 43, 48, 53, 57], False, False,\n",
        "\t    [237, 820, 1665, 301, 453, 952, 1864, 710, 266, 1177, 1798, 392, 339, 1492, 1652, 483, 798, 745, 975, 1638, 1035, 1483, 1065, 1336, 1601, 1567, 1839, 2001, 802, 1456, 434, 504, 1754, 1524, 1889, 1624, 104, 1449, 1322, 1343, 88, 1118, 341, 762, 1311, 599, 993, 280, 288, 792, 1361], False, True\n",
        "    ],\n",
        "    5: [\n",
        "\t    [791, 1516, 1938, 2233], True, False,\n",
        "\t    [836, 2406, 2489, 583, 584], True, False,\n",
        "\t    [911, 1014, 1665, 2297, 1363, 314, 1548, 1469, 743, 622, 1408, 1288, 2228, 545, 1313, 1962, 1509, 1329, 1978, 149, 1945, 1959, 552, 2069, 394, 856, 1, 2171, 888, 2269, 2032, 77, 2494, 646, 1214, 1381], False, True,\n",
        "\t    [15, 18, 110, 246, 314, 981], False, False\n",
        "    ],\n",
        "    6: [\n",
        "\t    [157, 1995, 2059, 2060, 2165, 2511], True, False,\n",
        "\t    [1787, 1300, 52, 2141, 1812, 1184, 695], True, False,\n",
        "\t    [666, 848, 1861, 949, 959, 1728, 1540, 1384, 1412, 2170, 2374, 260, 1519, 2417, 2342, 2738, 2492, 2233, 2041, 2799, 2628, 701, 1498, 589, 2160, 396, 1223, 1962], False, True,\n",
        "\t    [2, 7, 18, 28, 45, 90, 459, 571, 888, 905, 1312, 1450], False, False\n",
        "    ]\n",
        "}\n",
        "\n",
        "def run_tests(test_only):\n",
        "  with ZipFile('testgraphfiles.zip') as zfile:\n",
        "    for N in graph_test_dict:\n",
        "      graph = read_graph(zfile, N)\n",
        "      if not test_only:\n",
        "        print(f'Verifying graph {N}:\\n')\n",
        "      for n in range(4):\n",
        "        index = 3 * n\n",
        "        nodes = graph_test_dict[N][index]\n",
        "        expected_clique = graph_test_dict[N][index + 1]\n",
        "        expected_anticl = graph_test_dict[N][index + 2]\n",
        "        clique = check_clique_or_anti_clique(graph, nodes, False)\n",
        "        anticl = check_clique_or_anti_clique(graph, nodes, True)\n",
        "        if test_only:\n",
        "          assert(expected_clique == clique)\n",
        "          assert(expected_anticl == anticl)\n",
        "        else:\n",
        "          print(f'{nodes}\\n     Clique: {clique}\\nAnti-clique: {anticl}\\n')"
      ],
      "execution_count": 22,
      "outputs": []
    },
    {
      "cell_type": "code",
      "metadata": {
        "id": "UDauB0WIeNKl"
      },
      "source": [
        "run_tests(False)"
      ],
      "execution_count": 23,
      "outputs": [
        {
          "output_type": "stream",
          "name": "stdout",
          "text": [
            "Verifying graph 1:\n",
            "\n",
            "[2, 3, 4, 10, 11]\n",
            "     Clique: True\n",
            "Anti-clique: False\n",
            "\n",
            "[2, 4, 5, 10, 11]\n",
            "     Clique: False\n",
            "Anti-clique: False\n",
            "\n",
            "[1, 3, 5, 8]\n",
            "     Clique: False\n",
            "Anti-clique: True\n",
            "\n",
            "[4, 5, 8, 11]\n",
            "     Clique: False\n",
            "Anti-clique: False\n",
            "\n",
            "Verifying graph 2:\n",
            "\n",
            "[251, 417, 517]\n",
            "     Clique: True\n",
            "Anti-clique: False\n",
            "\n",
            "[414, 587, 588]\n",
            "     Clique: True\n",
            "Anti-clique: False\n",
            "\n",
            "[8, 10, 14, 17, 20, 49, 51, 66, 74, 80, 84, 109, 124, 127, 129, 132, 139, 141, 143, 150, 154, 161, 168, 177, 192, 196, 200, 203, 207, 215, 218, 239, 259, 261, 272, 278, 285, 292, 298, 302, 309, 312, 315, 320, 338, 343, 356, 368, 372, 380, 391, 395, 397, 402, 407, 415, 418, 427, 429, 434, 441, 448, 458, 461, 465, 470, 475, 480, 482, 494, 498, 512, 516, 549, 560, 570, 582]\n",
            "     Clique: False\n",
            "Anti-clique: True\n",
            "\n",
            "[17, 290, 129, 212, 354, 497, 192, 381, 389, 112, 386, 341]\n",
            "     Clique: False\n",
            "Anti-clique: False\n",
            "\n",
            "Verifying graph 3:\n",
            "\n",
            "[212, 320, 357, 463, 690]\n",
            "     Clique: True\n",
            "Anti-clique: False\n",
            "\n",
            "[266, 606, 990, 243, 11]\n",
            "     Clique: True\n",
            "Anti-clique: False\n",
            "\n",
            "[534, 787, 579, 430, 849, 399, 561, 798, 72, 623, 422, 197, 8, 336, 1001, 401, 173, 862, 716, 117, 17, 175, 123, 317, 521, 246]\n",
            "     Clique: False\n",
            "Anti-clique: True\n",
            "\n",
            "[12, 235, 198, 199, 264, 345, 444, 501, 672, 734, 908]\n",
            "     Clique: False\n",
            "Anti-clique: False\n",
            "\n",
            "Verifying graph 4:\n",
            "\n",
            "[664, 1026, 1171]\n",
            "     Clique: True\n",
            "Anti-clique: False\n",
            "\n",
            "[838, 1184, 1055, 1480]\n",
            "     Clique: True\n",
            "Anti-clique: False\n",
            "\n",
            "[2, 4, 7, 9, 12, 15, 17, 20, 23, 29, 33, 35, 43, 48, 53, 57]\n",
            "     Clique: False\n",
            "Anti-clique: False\n",
            "\n",
            "[237, 820, 1665, 301, 453, 952, 1864, 710, 266, 1177, 1798, 392, 339, 1492, 1652, 483, 798, 745, 975, 1638, 1035, 1483, 1065, 1336, 1601, 1567, 1839, 2001, 802, 1456, 434, 504, 1754, 1524, 1889, 1624, 104, 1449, 1322, 1343, 88, 1118, 341, 762, 1311, 599, 993, 280, 288, 792, 1361]\n",
            "     Clique: False\n",
            "Anti-clique: True\n",
            "\n",
            "Verifying graph 5:\n",
            "\n",
            "[791, 1516, 1938, 2233]\n",
            "     Clique: True\n",
            "Anti-clique: False\n",
            "\n",
            "[836, 2406, 2489, 583, 584]\n",
            "     Clique: True\n",
            "Anti-clique: False\n",
            "\n",
            "[911, 1014, 1665, 2297, 1363, 314, 1548, 1469, 743, 622, 1408, 1288, 2228, 545, 1313, 1962, 1509, 1329, 1978, 149, 1945, 1959, 552, 2069, 394, 856, 1, 2171, 888, 2269, 2032, 77, 2494, 646, 1214, 1381]\n",
            "     Clique: False\n",
            "Anti-clique: True\n",
            "\n",
            "[15, 18, 110, 246, 314, 981]\n",
            "     Clique: False\n",
            "Anti-clique: False\n",
            "\n",
            "Verifying graph 6:\n",
            "\n",
            "[157, 1995, 2059, 2060, 2165, 2511]\n",
            "     Clique: True\n",
            "Anti-clique: False\n",
            "\n",
            "[1787, 1300, 52, 2141, 1812, 1184, 695]\n",
            "     Clique: True\n",
            "Anti-clique: False\n",
            "\n",
            "[666, 848, 1861, 949, 959, 1728, 1540, 1384, 1412, 2170, 2374, 260, 1519, 2417, 2342, 2738, 2492, 2233, 2041, 2799, 2628, 701, 1498, 589, 2160, 396, 1223, 1962]\n",
            "     Clique: False\n",
            "Anti-clique: True\n",
            "\n",
            "[2, 7, 18, 28, 45, 90, 459, 571, 888, 905, 1312, 1450]\n",
            "     Clique: False\n",
            "Anti-clique: False\n",
            "\n"
          ]
        }
      ]
    },
    {
      "cell_type": "code",
      "metadata": {
        "id": "igq5RvLteTXT"
      },
      "source": [
        "%timeit run_tests(True)"
      ],
      "execution_count": 24,
      "outputs": [
        {
          "output_type": "stream",
          "name": "stdout",
          "text": [
            "1.93 s ± 165 ms per loop (mean ± std. dev. of 7 runs, 1 loop each)\n"
          ]
        }
      ]
    },
    {
      "cell_type": "markdown",
      "metadata": {
        "id": "81dbKwHenxnT"
      },
      "source": [
        "# TODO My Report on What I Did and What I Learned"
      ]
    },
    {
      "cell_type": "markdown",
      "metadata": {
        "id": "C8BeiIern33B"
      },
      "source": [
        "## Fun\n"
      ]
    },
    {
      "cell_type": "markdown",
      "metadata": {
        "id": "ElukRLoezyxd"
      },
      "source": [
        "I was able to have some fun studying this subject, even if I couldn't correctly code it. When things start to click after long hours of research is when I begin to have fun on assignments. "
      ]
    },
    {
      "cell_type": "markdown",
      "metadata": {
        "id": "OzOkZ3son-u9"
      },
      "source": [
        "## New"
      ]
    },
    {
      "cell_type": "markdown",
      "metadata": {
        "id": "3-nYIdEUz4x5"
      },
      "source": [
        "This week, I was able to learn a lot about graphs and subgraphs. I wasn't able to learn how best to apply code to them, but I know better how they work. I understand the importance of nodes, edges, and what makes certain kinds of graphs unique. "
      ]
    },
    {
      "cell_type": "markdown",
      "metadata": {
        "id": "mJHvoj6GokaZ"
      },
      "source": [
        "## Meaningful\n"
      ]
    },
    {
      "cell_type": "markdown",
      "metadata": {
        "id": "XOxh3XFTz-6N"
      },
      "source": [
        "With this study of cliques and anti cliques, I was able to make a meaningful connection to the previous subject of subgroups. Cliques and anti cliques are subgraphs of larger graphs, and have their own properties. This is a lot like our study early on in the semester of lists. For example, we can have a list of all real numbers and then a sublist of all prime numbers. With the understanding of these similarities, it helps me to better visualize and understand what we are talking about in the context of cliques and graphs. I can use that understanding to further build upon what we are currently learning with graphs and vice versa.  "
      ]
    },
    {
      "cell_type": "markdown",
      "metadata": {
        "id": "_RBE03fhpNUG"
      },
      "source": [
        "## Other"
      ]
    },
    {
      "cell_type": "markdown",
      "metadata": {
        "id": "d-sXEeq60C3W"
      },
      "source": [
        "I know I worked with others on this assignment, but it was the first time I was able to do so, so I don't remmeber the names. I believe one of their names was Mike. It was very helpful to have some assistance in understanding what I was doing wrong before so that I could fix it. "
      ]
    },
    {
      "cell_type": "markdown",
      "metadata": {
        "id": "Nrk-8EmgW4NP"
      },
      "source": [
        "# TODO What is True?\n",
        "Click on each warranted checkbox to toggle it to True (or back to False). \n",
        "\n",
        "NOTE: *This only works in Colab. If you run it in some other Jupyter notebook client/server environment you may have to change False to True (or vice versa) manually.*\n",
        "\n",
        "This self-assessment is subject to revision by a grader."
      ]
    },
    {
      "cell_type": "code",
      "metadata": {
        "id": "qGAjzgVRXR4M"
      },
      "source": [
        "#@markdown ## What is True about what I did?\n",
        "#@markdown ### I had fun.\n",
        "cb00 = True #@param {type:'boolean'}\n",
        "#@markdown ### I learned something new.\n",
        "cb01 = True #@param {type:'boolean'}\n",
        "#@markdown ### I achieved something meaningful, or something I can build upon at a later time.\n",
        "cb02 = True #@param {type:'boolean'}\n",
        "#@markdown ## What is True about my report?\n",
        "#@markdown ### I wrote a sufficient number of well-written sentences.\n",
        "cb03 = True #@param {type:'boolean'}\n",
        "#@markdown ### My report is free of mechanical infelicities.\n",
        "cb04 = True #@param {type:'boolean'}\n",
        "#@markdown ### I used Grammarly (or something better described in my report) to check for MIs.\n",
        "cb05 = True #@param {type:'boolean'}\n",
        "#@markdown ### I reported on any connections I found between these problems and something I already know. \n",
        "cb06 = True #@param {type:'boolean'}\n",
        "#@markdown ### I reported who were and what contribution each of my collaborators made.\n",
        "cb07 = True #@param {type:'boolean'}\n",
        "#@markdown ## What is True about my code's size?\n",
        "#@markdown ### I created a body for \"link_exists\" that is no more than 2 lines (not greater than 75 characters each).\n",
        "cb08 = True #@param {type:'boolean'}\n",
        "#@markdown ### I created a body for \"check_clique_or_anti_clique\" that is no more than 6 lines (not greater than 75 characters each).\n",
        "cb09 = True #@param {type:'boolean'}\n",
        "#@markdown ### I created a body for \"check_clique_or_anti_clique\" that is no more than 5 lines (not greater than 75 characters each).\n",
        "cb10 = True #@param {type:'boolean'}\n",
        "#@markdown ### I created a body for \"check_clique_or_anti_clique\" that is no more than 4 lines (not greater than 75 characters each).\n",
        "cb11 = True #@param {type:'boolean'}\n",
        "#@markdown ### I created a body for \"check_clique_or_anti_clique\" that is no more than 3 lines (not greater than 75 characters each).\n",
        "cb12 = True #@param {type:'boolean'}\n",
        "#@markdown ### I created a body for \"check_clique_or_anti_clique\" that is no more than 2 lines (not greater than 75 characters each).\n",
        "cb13 = True #@param {type:'boolean'}\n",
        "#@markdown ## What is True about my code's efficiency?\n",
        "#@markdown ### My code is efficient enough to run all 4 tests on all 6 graphs in less than 5 minutes.\n",
        "cb14 = True #@param {type:'boolean'}\n",
        "#@markdown ### My code is efficient enough to run all 4 tests on all 6 graphs in less than 2 minutes.\n",
        "cb15 = True #@param {type:'boolean'}\n",
        "#@markdown ### My code is efficient enough to run all 4 tests on all 6 graphs in less than 1 minute.\n",
        "cb16 = True #@param {type:'boolean'}\n",
        "#@markdown ### My code is efficient enough to run all 4 tests on all 6 graphs in less than 30 seconds.\n",
        "cb17 = True #@param {type:'boolean'}\n",
        "#@markdown ### My code is efficient enough to run all 4 tests on all 6 graphs in less than 15 seconds.\n",
        "cb18 = True #@param {type:'boolean'}\n",
        "#@markdown ### My code is efficient enough to run all 4 tests on all 6 graphs in less than 5 seconds.\n",
        "cb19 = True #@param {type:'boolean'}"
      ],
      "execution_count": 27,
      "outputs": []
    },
    {
      "cell_type": "markdown",
      "metadata": {
        "id": "q8KESLBANSkC"
      },
      "source": [
        "## DO NOT CHANGE ANYTHING IN THE NEXT CODE CELL!!\n",
        "### Delete this cell and the following ones before submitting your work."
      ]
    },
    {
      "cell_type": "code",
      "metadata": {
        "id": "rJ_vaL0DWwoc"
      },
      "source": [
        "points_for_what_I_did = [5]*3\n",
        "points_for_my_report = [8]*5\n",
        "points_for_my_code_size = [5]*6\n",
        "points_for_my_code_efficiency = [2]*4 + [3,4]\n",
        "points = points_for_what_I_did + points_for_my_report + points_for_my_code_size + points_for_my_code_efficiency\n",
        "# cb is short for checkbox\n",
        "total = sum(map(lambda n, p: p if eval(f'cb{n:02}') else 0,\n",
        "                range(len(points)), points))             \n",
        "total"
      ],
      "execution_count": 28,
      "outputs": [
        {
          "output_type": "execute_result",
          "data": {
            "text/plain": [
              "100"
            ]
          },
          "metadata": {},
          "execution_count": 28
        }
      ]
    },
    {
      "cell_type": "markdown",
      "metadata": {
        "id": "muxeYgQQKGEU"
      },
      "source": [
        "# For graders"
      ]
    }
  ]
}