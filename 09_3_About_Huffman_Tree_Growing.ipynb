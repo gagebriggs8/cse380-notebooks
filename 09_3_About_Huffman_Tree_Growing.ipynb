{
  "nbformat": 4,
  "nbformat_minor": 0,
  "metadata": {
    "colab": {
      "name": "09_3_About_Huffman_Tree_Growing.ipynb",
      "provenance": [],
      "authorship_tag": "ABX9TyN52YHKfopcKZXzgGtSyE9P",
      "include_colab_link": true
    },
    "kernelspec": {
      "name": "python3",
      "display_name": "Python 3.9.1 64-bit",
      "metadata": {
        "interpreter": {
          "hash": "c16781caba93b53381bc6414d125c9bff7f677c90db4fafbda279e0df4947c58"
        }
      }
    }
  },
  "cells": [
    {
      "cell_type": "markdown",
      "metadata": {
        "id": "view-in-github",
        "colab_type": "text"
      },
      "source": [
        "<a href=\"https://colab.research.google.com/github/byui-cse/cse380-notebooks/blob/master/09_3_About_Huffman_Tree_Growing.ipynb\" target=\"_parent\"><img src=\"https://colab.research.google.com/assets/colab-badge.svg\" alt=\"Open In Colab\"/></a>"
      ]
    },
    {
      "cell_type": "markdown",
      "metadata": {
        "id": "BjNb99LGmm11"
      },
      "source": [
        "# About Huffman Tree Growing\n",
        "## Class Directed Learning\n",
        "### Due: Tuesday, 2 March 2021, 11:59 pm"
      ]
    },
    {
      "cell_type": "markdown",
      "metadata": {
        "id": "VED3Iwgbo4jJ"
      },
      "source": [
        "## Answer to DPC"
      ]
    },
    {
      "cell_type": "markdown",
      "metadata": {
        "id": "M4k33027o7Fl"
      },
      "source": [
        "This dictionary maps n:cr for the first n odd primes gap lists' cr (compression ratios):\n"
      ]
    },
    {
      "cell_type": "code",
      "metadata": {
        "id": "gagrJ3vrpCa6"
      },
      "source": [
        "ncr = {2: 0, 3: 0, 4: 0, 5: 0, 6: 0, 7: 25, 8: 28, 9: 25, 10: 23, 11: 25, 12: 23, 13: 21, 14: 20, 15: 22, 16: 21, 17: 19, 18: 21, 19: 20, 20: 19, 21: 18, 22: 0, 23: 0, 24: 2, 25: 2, 26: 4, 27: 4, 28: 32, 29: 33, 30: 32, 31: 32}\n",
        "for n in ncr.keys():\n",
        "  print(f\"For the first {n} odd primes' gap list, the compression ratio is {ncr[n]}%.\")"
      ],
      "execution_count": 1,
      "outputs": [
        {
          "output_type": "stream",
          "name": "stdout",
          "text": [
            "For the first 2 odd primes' gap list, the compression ratio is 0%.\nFor the first 3 odd primes' gap list, the compression ratio is 0%.\nFor the first 4 odd primes' gap list, the compression ratio is 0%.\nFor the first 5 odd primes' gap list, the compression ratio is 0%.\nFor the first 6 odd primes' gap list, the compression ratio is 0%.\nFor the first 7 odd primes' gap list, the compression ratio is 25%.\nFor the first 8 odd primes' gap list, the compression ratio is 28%.\nFor the first 9 odd primes' gap list, the compression ratio is 25%.\nFor the first 10 odd primes' gap list, the compression ratio is 23%.\nFor the first 11 odd primes' gap list, the compression ratio is 25%.\nFor the first 12 odd primes' gap list, the compression ratio is 23%.\nFor the first 13 odd primes' gap list, the compression ratio is 21%.\nFor the first 14 odd primes' gap list, the compression ratio is 20%.\nFor the first 15 odd primes' gap list, the compression ratio is 22%.\nFor the first 16 odd primes' gap list, the compression ratio is 21%.\nFor the first 17 odd primes' gap list, the compression ratio is 19%.\nFor the first 18 odd primes' gap list, the compression ratio is 21%.\nFor the first 19 odd primes' gap list, the compression ratio is 20%.\nFor the first 20 odd primes' gap list, the compression ratio is 19%.\nFor the first 21 odd primes' gap list, the compression ratio is 18%.\nFor the first 22 odd primes' gap list, the compression ratio is 0%.\nFor the first 23 odd primes' gap list, the compression ratio is 0%.\nFor the first 24 odd primes' gap list, the compression ratio is 2%.\nFor the first 25 odd primes' gap list, the compression ratio is 2%.\nFor the first 26 odd primes' gap list, the compression ratio is 4%.\nFor the first 27 odd primes' gap list, the compression ratio is 4%.\nFor the first 28 odd primes' gap list, the compression ratio is 32%.\nFor the first 29 odd primes' gap list, the compression ratio is 33%.\nFor the first 30 odd primes' gap list, the compression ratio is 32%.\nFor the first 31 odd primes' gap list, the compression ratio is 32%.\n"
          ]
        }
      ]
    },
    {
      "cell_type": "markdown",
      "metadata": {
        "id": "A06Y_UzotDok"
      },
      "source": [
        "### Calculated how??"
      ]
    },
    {
      "cell_type": "code",
      "metadata": {
        "id": "4T4a5Pq1tF_S"
      },
      "source": [
        "!pip install anytree\n",
        "from anytree import Node, RenderTree, PreOrderIter, Walker\n",
        "from anytree.util import leftsibling, rightsibling\n",
        "from anytree.exporter.dotexporter import DotExporter\n",
        "from collections import Counter\n",
        "from queue import PriorityQueue\n",
        "from math import ceil, floor, log\n",
        "from sympy import primerange\n",
        "\n",
        "def realprimes_up_to(n):\n",
        "  return list(primerange(4, n))\n",
        "\n",
        "def get_list_of_gaps(pl):\n",
        "  gaps_list = list(map(lambda i: pl[i] - pl[i - 1], range(1, len(pl))))\n",
        "  gaps_list = [2] + gaps_list # [2] for the gap between 3 and 5\n",
        "  return gaps_list\n",
        "\n",
        "class GapNode(Node):\n",
        "  def __lt__(self, other):\n",
        "    return self.count < other.count\n",
        "\n",
        "node_counter = 0\n",
        "def next_node_name():\n",
        "  global node_counter\n",
        "  name = 'gn' + str(node_counter)\n",
        "  node_counter += 1\n",
        "  return name\n",
        "\n",
        "def new_node(gp, ct):\n",
        "  return GapNode(next_node_name(), gap = gp, count = ct)\n",
        "\n",
        "def new_internal_node(left, right):\n",
        "  return GapNode(next_node_name(), children = [left, right],\n",
        "                 gap = 0, count = left.count + right.count)\n",
        "\n",
        "def make_huffman_tree(gaps_list):\n",
        "  gap_dict = Counter(gaps_list)\n",
        "  q = PriorityQueue()\n",
        "  for key, val in gap_dict.items():\n",
        "    q.put(new_node(key, val))\n",
        "\n",
        "  while q.qsize() > 1:\n",
        "    left = q.get()\n",
        "    right = q.get()\n",
        "    q.put(new_internal_node(left, right))\n",
        "\n",
        "  return q.get()\n",
        "\n",
        "def get_codes(root):\n",
        "  leaves = [node for node in PreOrderIter(root, filter_=lambda n: not n.children)]\n",
        "  codes = {}\n",
        "  w = Walker()\n",
        "  for leaf in leaves:\n",
        "    path = w.walk(leaf, root)[0]\n",
        "    code = ''\n",
        "    for node in path:\n",
        "      code = ('1' if leftsibling(node) else '0') + code\n",
        "    codes[leaf.gap] = tuple([code, leaf.count])\n",
        "  return codes\n",
        "\n",
        "def compression_ratio(f, v):\n",
        "  return 100 * (f - v) / f\n",
        "\n",
        "def get_encoded_size(codes):\n",
        "  return sum([len(code) * count for gap, (code, count) in codes.items()])\n",
        "\n",
        "def get_fixed_size(codes):\n",
        "  num_keys = len(codes)\n",
        "  num_bits_per_key = ceil(log(num_keys, 2))\n",
        "  return sum([num_bits_per_key * count for gap, (code, count) in codes.items()])\n",
        "\n",
        "def report(codes):\n",
        "  return compression_ratio(get_fixed_size(codes), get_encoded_size(codes))\n",
        "\n",
        "def test_up_to(primes, upper, results):\n",
        "  list_of_gaps = get_list_of_gaps(primes[:upper])\n",
        "  print(primes[:upper])\n",
        "  print(list_of_gaps)\n",
        "  root = make_huffman_tree(list_of_gaps)\n",
        "  print(RenderTree(root))\n",
        "  DotExporter(root).to_picture(f'gap-tree-{upper:02d}.png')\n",
        "  codes = get_codes(root)\n",
        "  print(upper, '-->', get_encoded_size(codes))\n",
        "  cr = round(report(codes))\n",
        "  results[upper - 1] = cr # adjust since upper is the number of primes, -1 to make it just odd primes\n",
        "\n",
        "primes = realprimes_up_to(10001)\n",
        "results = {}\n",
        "for n in range(3, 33):\n",
        "    test_up_to(primes, n, results)\n",
        "\n",
        "results"
      ],
      "execution_count": 2,
      "outputs": [
        {
          "output_type": "stream",
          "name": "stdout",
          "text": [
            "Collecting anytree\n",
            "  Downloading anytree-2.8.0-py2.py3-none-any.whl (41 kB)\n",
            "Requirement already satisfied: six>=1.9.0 in c:\\users\\gage briggs\\appdata\\roaming\\python\\python39\\site-packages (from anytree) (1.15.0)\n",
            "Installing collected packages: anytree\n",
            "Successfully installed anytree-2.8.0\n",
            "[5, 7, 11]\n",
            "[2, 2, 4]\n",
            "GapNode('/gn2', count=3, gap=0)\n",
            "├── GapNode('/gn2/gn1', count=1, gap=4)\n",
            "└── GapNode('/gn2/gn0', count=2, gap=2)\n"
          ]
        },
        {
          "output_type": "error",
          "ename": "FileNotFoundError",
          "evalue": "[WinError 2] The system cannot find the file specified",
          "traceback": [
            "\u001b[1;31m---------------------------------------------------------------------------\u001b[0m",
            "\u001b[1;31mFileNotFoundError\u001b[0m                         Traceback (most recent call last)",
            "\u001b[1;32m<ipython-input-2-67b345c8ac30>\u001b[0m in \u001b[0;36m<module>\u001b[1;34m\u001b[0m\n\u001b[0;32m     88\u001b[0m \u001b[0mresults\u001b[0m \u001b[1;33m=\u001b[0m \u001b[1;33m{\u001b[0m\u001b[1;33m}\u001b[0m\u001b[1;33m\u001b[0m\u001b[1;33m\u001b[0m\u001b[0m\n\u001b[0;32m     89\u001b[0m \u001b[1;32mfor\u001b[0m \u001b[0mn\u001b[0m \u001b[1;32min\u001b[0m \u001b[0mrange\u001b[0m\u001b[1;33m(\u001b[0m\u001b[1;36m3\u001b[0m\u001b[1;33m,\u001b[0m \u001b[1;36m33\u001b[0m\u001b[1;33m)\u001b[0m\u001b[1;33m:\u001b[0m\u001b[1;33m\u001b[0m\u001b[1;33m\u001b[0m\u001b[0m\n\u001b[1;32m---> 90\u001b[1;33m     \u001b[0mtest_up_to\u001b[0m\u001b[1;33m(\u001b[0m\u001b[0mprimes\u001b[0m\u001b[1;33m,\u001b[0m \u001b[0mn\u001b[0m\u001b[1;33m,\u001b[0m \u001b[0mresults\u001b[0m\u001b[1;33m)\u001b[0m\u001b[1;33m\u001b[0m\u001b[1;33m\u001b[0m\u001b[0m\n\u001b[0m\u001b[0;32m     91\u001b[0m \u001b[1;33m\u001b[0m\u001b[0m\n\u001b[0;32m     92\u001b[0m \u001b[0mresults\u001b[0m\u001b[1;33m\u001b[0m\u001b[1;33m\u001b[0m\u001b[0m\n",
            "\u001b[1;32m<ipython-input-2-67b345c8ac30>\u001b[0m in \u001b[0;36mtest_up_to\u001b[1;34m(primes, upper, results)\u001b[0m\n\u001b[0;32m     79\u001b[0m   \u001b[0mroot\u001b[0m \u001b[1;33m=\u001b[0m \u001b[0mmake_huffman_tree\u001b[0m\u001b[1;33m(\u001b[0m\u001b[0mlist_of_gaps\u001b[0m\u001b[1;33m)\u001b[0m\u001b[1;33m\u001b[0m\u001b[1;33m\u001b[0m\u001b[0m\n\u001b[0;32m     80\u001b[0m   \u001b[0mprint\u001b[0m\u001b[1;33m(\u001b[0m\u001b[0mRenderTree\u001b[0m\u001b[1;33m(\u001b[0m\u001b[0mroot\u001b[0m\u001b[1;33m)\u001b[0m\u001b[1;33m)\u001b[0m\u001b[1;33m\u001b[0m\u001b[1;33m\u001b[0m\u001b[0m\n\u001b[1;32m---> 81\u001b[1;33m   \u001b[0mDotExporter\u001b[0m\u001b[1;33m(\u001b[0m\u001b[0mroot\u001b[0m\u001b[1;33m)\u001b[0m\u001b[1;33m.\u001b[0m\u001b[0mto_picture\u001b[0m\u001b[1;33m(\u001b[0m\u001b[1;34mf'gap-tree-{upper:02d}.png'\u001b[0m\u001b[1;33m)\u001b[0m\u001b[1;33m\u001b[0m\u001b[1;33m\u001b[0m\u001b[0m\n\u001b[0m\u001b[0;32m     82\u001b[0m   \u001b[0mcodes\u001b[0m \u001b[1;33m=\u001b[0m \u001b[0mget_codes\u001b[0m\u001b[1;33m(\u001b[0m\u001b[0mroot\u001b[0m\u001b[1;33m)\u001b[0m\u001b[1;33m\u001b[0m\u001b[1;33m\u001b[0m\u001b[0m\n\u001b[0;32m     83\u001b[0m   \u001b[0mprint\u001b[0m\u001b[1;33m(\u001b[0m\u001b[0mupper\u001b[0m\u001b[1;33m,\u001b[0m \u001b[1;34m'-->'\u001b[0m\u001b[1;33m,\u001b[0m \u001b[0mget_encoded_size\u001b[0m\u001b[1;33m(\u001b[0m\u001b[0mcodes\u001b[0m\u001b[1;33m)\u001b[0m\u001b[1;33m)\u001b[0m\u001b[1;33m\u001b[0m\u001b[1;33m\u001b[0m\u001b[0m\n",
            "\u001b[1;32m~\\AppData\\Local\\Programs\\Python\\Python39\\lib\\site-packages\\anytree\\exporter\\dotexporter.py\u001b[0m in \u001b[0;36mto_picture\u001b[1;34m(self, filename)\u001b[0m\n\u001b[0;32m    270\u001b[0m             \u001b[0mdotfile\u001b[0m\u001b[1;33m.\u001b[0m\u001b[0mflush\u001b[0m\u001b[1;33m(\u001b[0m\u001b[1;33m)\u001b[0m\u001b[1;33m\u001b[0m\u001b[1;33m\u001b[0m\u001b[0m\n\u001b[0;32m    271\u001b[0m             \u001b[0mcmd\u001b[0m \u001b[1;33m=\u001b[0m \u001b[1;33m[\u001b[0m\u001b[1;34m\"dot\"\u001b[0m\u001b[1;33m,\u001b[0m \u001b[0mdotfilename\u001b[0m\u001b[1;33m,\u001b[0m \u001b[1;34m\"-T\"\u001b[0m\u001b[1;33m,\u001b[0m \u001b[0mfileformat\u001b[0m\u001b[1;33m,\u001b[0m \u001b[1;34m\"-o\"\u001b[0m\u001b[1;33m,\u001b[0m \u001b[0mfilename\u001b[0m\u001b[1;33m]\u001b[0m\u001b[1;33m\u001b[0m\u001b[1;33m\u001b[0m\u001b[0m\n\u001b[1;32m--> 272\u001b[1;33m             \u001b[0mcheck_call\u001b[0m\u001b[1;33m(\u001b[0m\u001b[0mcmd\u001b[0m\u001b[1;33m)\u001b[0m\u001b[1;33m\u001b[0m\u001b[1;33m\u001b[0m\u001b[0m\n\u001b[0m\u001b[0;32m    273\u001b[0m         \u001b[1;32mtry\u001b[0m\u001b[1;33m:\u001b[0m\u001b[1;33m\u001b[0m\u001b[1;33m\u001b[0m\u001b[0m\n\u001b[0;32m    274\u001b[0m             \u001b[0mremove\u001b[0m\u001b[1;33m(\u001b[0m\u001b[0mdotfilename\u001b[0m\u001b[1;33m)\u001b[0m\u001b[1;33m\u001b[0m\u001b[1;33m\u001b[0m\u001b[0m\n",
            "\u001b[1;32m~\\AppData\\Local\\Programs\\Python\\Python39\\lib\\subprocess.py\u001b[0m in \u001b[0;36mcheck_call\u001b[1;34m(*popenargs, **kwargs)\u001b[0m\n\u001b[0;32m    366\u001b[0m     \u001b[0mcheck_call\u001b[0m\u001b[1;33m(\u001b[0m\u001b[1;33m[\u001b[0m\u001b[1;34m\"ls\"\u001b[0m\u001b[1;33m,\u001b[0m \u001b[1;34m\"-l\"\u001b[0m\u001b[1;33m]\u001b[0m\u001b[1;33m)\u001b[0m\u001b[1;33m\u001b[0m\u001b[1;33m\u001b[0m\u001b[0m\n\u001b[0;32m    367\u001b[0m     \"\"\"\n\u001b[1;32m--> 368\u001b[1;33m     \u001b[0mretcode\u001b[0m \u001b[1;33m=\u001b[0m \u001b[0mcall\u001b[0m\u001b[1;33m(\u001b[0m\u001b[1;33m*\u001b[0m\u001b[0mpopenargs\u001b[0m\u001b[1;33m,\u001b[0m \u001b[1;33m**\u001b[0m\u001b[0mkwargs\u001b[0m\u001b[1;33m)\u001b[0m\u001b[1;33m\u001b[0m\u001b[1;33m\u001b[0m\u001b[0m\n\u001b[0m\u001b[0;32m    369\u001b[0m     \u001b[1;32mif\u001b[0m \u001b[0mretcode\u001b[0m\u001b[1;33m:\u001b[0m\u001b[1;33m\u001b[0m\u001b[1;33m\u001b[0m\u001b[0m\n\u001b[0;32m    370\u001b[0m         \u001b[0mcmd\u001b[0m \u001b[1;33m=\u001b[0m \u001b[0mkwargs\u001b[0m\u001b[1;33m.\u001b[0m\u001b[0mget\u001b[0m\u001b[1;33m(\u001b[0m\u001b[1;34m\"args\"\u001b[0m\u001b[1;33m)\u001b[0m\u001b[1;33m\u001b[0m\u001b[1;33m\u001b[0m\u001b[0m\n",
            "\u001b[1;32m~\\AppData\\Local\\Programs\\Python\\Python39\\lib\\subprocess.py\u001b[0m in \u001b[0;36mcall\u001b[1;34m(timeout, *popenargs, **kwargs)\u001b[0m\n\u001b[0;32m    347\u001b[0m     \u001b[0mretcode\u001b[0m \u001b[1;33m=\u001b[0m \u001b[0mcall\u001b[0m\u001b[1;33m(\u001b[0m\u001b[1;33m[\u001b[0m\u001b[1;34m\"ls\"\u001b[0m\u001b[1;33m,\u001b[0m \u001b[1;34m\"-l\"\u001b[0m\u001b[1;33m]\u001b[0m\u001b[1;33m)\u001b[0m\u001b[1;33m\u001b[0m\u001b[1;33m\u001b[0m\u001b[0m\n\u001b[0;32m    348\u001b[0m     \"\"\"\n\u001b[1;32m--> 349\u001b[1;33m     \u001b[1;32mwith\u001b[0m \u001b[0mPopen\u001b[0m\u001b[1;33m(\u001b[0m\u001b[1;33m*\u001b[0m\u001b[0mpopenargs\u001b[0m\u001b[1;33m,\u001b[0m \u001b[1;33m**\u001b[0m\u001b[0mkwargs\u001b[0m\u001b[1;33m)\u001b[0m \u001b[1;32mas\u001b[0m \u001b[0mp\u001b[0m\u001b[1;33m:\u001b[0m\u001b[1;33m\u001b[0m\u001b[1;33m\u001b[0m\u001b[0m\n\u001b[0m\u001b[0;32m    350\u001b[0m         \u001b[1;32mtry\u001b[0m\u001b[1;33m:\u001b[0m\u001b[1;33m\u001b[0m\u001b[1;33m\u001b[0m\u001b[0m\n\u001b[0;32m    351\u001b[0m             \u001b[1;32mreturn\u001b[0m \u001b[0mp\u001b[0m\u001b[1;33m.\u001b[0m\u001b[0mwait\u001b[0m\u001b[1;33m(\u001b[0m\u001b[0mtimeout\u001b[0m\u001b[1;33m=\u001b[0m\u001b[0mtimeout\u001b[0m\u001b[1;33m)\u001b[0m\u001b[1;33m\u001b[0m\u001b[1;33m\u001b[0m\u001b[0m\n",
            "\u001b[1;32m~\\AppData\\Local\\Programs\\Python\\Python39\\lib\\subprocess.py\u001b[0m in \u001b[0;36m__init__\u001b[1;34m(self, args, bufsize, executable, stdin, stdout, stderr, preexec_fn, close_fds, shell, cwd, env, universal_newlines, startupinfo, creationflags, restore_signals, start_new_session, pass_fds, user, group, extra_groups, encoding, errors, text, umask)\u001b[0m\n\u001b[0;32m    945\u001b[0m                             encoding=encoding, errors=errors)\n\u001b[0;32m    946\u001b[0m \u001b[1;33m\u001b[0m\u001b[0m\n\u001b[1;32m--> 947\u001b[1;33m             self._execute_child(args, executable, preexec_fn, close_fds,\n\u001b[0m\u001b[0;32m    948\u001b[0m                                 \u001b[0mpass_fds\u001b[0m\u001b[1;33m,\u001b[0m \u001b[0mcwd\u001b[0m\u001b[1;33m,\u001b[0m \u001b[0menv\u001b[0m\u001b[1;33m,\u001b[0m\u001b[1;33m\u001b[0m\u001b[1;33m\u001b[0m\u001b[0m\n\u001b[0;32m    949\u001b[0m                                 \u001b[0mstartupinfo\u001b[0m\u001b[1;33m,\u001b[0m \u001b[0mcreationflags\u001b[0m\u001b[1;33m,\u001b[0m \u001b[0mshell\u001b[0m\u001b[1;33m,\u001b[0m\u001b[1;33m\u001b[0m\u001b[1;33m\u001b[0m\u001b[0m\n",
            "\u001b[1;32m~\\AppData\\Local\\Programs\\Python\\Python39\\lib\\subprocess.py\u001b[0m in \u001b[0;36m_execute_child\u001b[1;34m(self, args, executable, preexec_fn, close_fds, pass_fds, cwd, env, startupinfo, creationflags, shell, p2cread, p2cwrite, c2pread, c2pwrite, errread, errwrite, unused_restore_signals, unused_gid, unused_gids, unused_uid, unused_umask, unused_start_new_session)\u001b[0m\n\u001b[0;32m   1414\u001b[0m             \u001b[1;31m# Start the process\u001b[0m\u001b[1;33m\u001b[0m\u001b[1;33m\u001b[0m\u001b[1;33m\u001b[0m\u001b[0m\n\u001b[0;32m   1415\u001b[0m             \u001b[1;32mtry\u001b[0m\u001b[1;33m:\u001b[0m\u001b[1;33m\u001b[0m\u001b[1;33m\u001b[0m\u001b[0m\n\u001b[1;32m-> 1416\u001b[1;33m                 hp, ht, pid, tid = _winapi.CreateProcess(executable, args,\n\u001b[0m\u001b[0;32m   1417\u001b[0m                                          \u001b[1;31m# no special security\u001b[0m\u001b[1;33m\u001b[0m\u001b[1;33m\u001b[0m\u001b[1;33m\u001b[0m\u001b[0m\n\u001b[0;32m   1418\u001b[0m                                          \u001b[1;32mNone\u001b[0m\u001b[1;33m,\u001b[0m \u001b[1;32mNone\u001b[0m\u001b[1;33m,\u001b[0m\u001b[1;33m\u001b[0m\u001b[1;33m\u001b[0m\u001b[0m\n",
            "\u001b[1;31mFileNotFoundError\u001b[0m: [WinError 2] The system cannot find the file specified"
          ]
        }
      ]
    },
    {
      "cell_type": "markdown",
      "metadata": {
        "id": "6qppc1W8m07l"
      },
      "source": [
        "## Explore and Wonder"
      ]
    },
    {
      "cell_type": "markdown",
      "metadata": {
        "id": "kHEYJMd9nKQc"
      },
      "source": [
        "The Huffman Tree Algorithm is one of my favorite algorithms!"
      ]
    },
    {
      "cell_type": "markdown",
      "metadata": {
        "id": "fvsdyKX7nNG4"
      },
      "source": [
        "### Reason #1"
      ]
    },
    {
      "cell_type": "markdown",
      "metadata": {
        "id": "WzEV8GvBnbzd"
      },
      "source": [
        "It is easy to understand and implement --- a classic greedy algorithm."
      ]
    },
    {
      "cell_type": "markdown",
      "metadata": {
        "id": "cJO4n-JRnWnm"
      },
      "source": [
        "### Reason #2"
      ]
    },
    {
      "cell_type": "markdown",
      "metadata": {
        "id": "p7gj8RzPnhuQ"
      },
      "source": [
        "It is provably optimal among methods encoding symbols separately."
      ]
    },
    {
      "cell_type": "markdown",
      "metadata": {
        "id": "BxD5XjgInZWH"
      },
      "source": [
        "### Reason #3"
      ]
    },
    {
      "cell_type": "markdown",
      "metadata": {
        "id": "EKTZwf90nlTH"
      },
      "source": [
        "I think David Huffman was inspired!"
      ]
    },
    {
      "cell_type": "markdown",
      "metadata": {
        "id": "poJ7bLJanpOJ"
      },
      "source": [
        "#### History"
      ]
    },
    {
      "cell_type": "markdown",
      "metadata": {
        "id": "S93G-zHKnqnl"
      },
      "source": [
        "From the History section of Wikipedia's page on Huffman coding:\n",
        "\n",
        "> In 1951, David A. Huffman and his MIT information theory classmates were given the choice of a term paper or a final exam. The professor, Robert M. Fano, assigned a term paper on the problem of finding the most efficient binary code. Huffman, unable to prove any codes were the most efficient, was about to give up and start studying for the final when he hit upon the idea of using a frequency-sorted binary tree and quickly proved this method the most efficient.\n",
        "\n",
        "> In doing so, Huffman outdid Fano, who had worked with information theory inventor Claude Shannon to develop a similar code. Building the tree from the bottom up guaranteed optimality, unlike top-down Shannon-Fano coding.\n",
        "\n",
        "\n",
        "\n"
      ]
    },
    {
      "cell_type": "markdown",
      "metadata": {
        "id": "RGJlfNDGoHj-"
      },
      "source": [
        "## TODO Read and Draw"
      ]
    },
    {
      "cell_type": "markdown",
      "metadata": {
        "id": "uy8UQIoioPMb"
      },
      "source": [
        "Read [A Method for the Construction of Minimum-Redundancy Codes](http://compression.ru/download/articles/huff/huffman_1952_minimum-redundancy-codes.pdf) (David Huffman's original paper) and by drawing pictures, make the connection between trees and rivers vivid in your mind!"
      ]
    },
    {
      "cell_type": "code",
      "execution_count": null,
      "metadata": {},
      "outputs": [],
      "source": [
        "I don't know the best way to draw my pictures on here, but rest assured, I did my best to understand this paper. "
      ]
    }
  ]
}